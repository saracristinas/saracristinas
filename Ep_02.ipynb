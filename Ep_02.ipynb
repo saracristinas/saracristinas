{
  "nbformat": 4,
  "nbformat_minor": 0,
  "metadata": {
    "colab": {
      "name": "Ep. #02.ipynb",
      "provenance": [],
      "include_colab_link": true
    },
    "kernelspec": {
      "name": "python3",
      "display_name": "Python 3"
    }
  },
  "cells": [
    {
      "cell_type": "markdown",
      "metadata": {
        "id": "view-in-github",
        "colab_type": "text"
      },
      "source": [
        "<a href=\"https://colab.research.google.com/github/saracristinas/saracristinas/blob/main/Ep_02.ipynb\" target=\"_parent\"><img src=\"https://colab.research.google.com/assets/colab-badge.svg\" alt=\"Open In Colab\"/></a>"
      ]
    },
    {
      "cell_type": "code",
      "metadata": {
        "id": "Ug7UrReB_psV",
        "colab": {
          "base_uri": "https://localhost:8080/"
        },
        "outputId": "0aad6298-19aa-464c-ddbe-d4355504fbd4"
      },
      "source": [
        "# Aula - Ep. #02 - Mini Curso de #IP\n",
        "# Tipos Primitivos de Dados em Python\n",
        "# Docente: Prof. MSc. Cloves Rocha\n",
        "# Estudantes:\n",
        "# Uninassau\n",
        "# CC 4NMC\n",
        "\n",
        "# Tipo Inteiro ok\n",
        "# Tipo Reais ok\n",
        "# Tipo Booleanos ok\n",
        "# Tipo Caracteres (string) ok\n",
        "\n",
        "c = 2+3\n",
        "print(c)\n",
        "#c = 5\n",
        "#r = 5\n",
        "#print(c == r)"
      ],
      "execution_count": null,
      "outputs": [
        {
          "output_type": "stream",
          "name": "stdout",
          "text": [
            "5\n"
          ]
        }
      ]
    },
    {
      "cell_type": "code",
      "source": [
        "a = 4\n",
        "b = 3\n",
        "print(a >= b)"
      ],
      "metadata": {
        "id": "0_3DmzZhkLXw",
        "outputId": "8ce44764-61ee-4f46-bace-4207ee0bfff6",
        "colab": {
          "base_uri": "https://localhost:8080/"
        }
      },
      "execution_count": 1,
      "outputs": [
        {
          "output_type": "stream",
          "name": "stdout",
          "text": [
            "True\n"
          ]
        }
      ]
    }
  ]
}